{
 "cells": [
  {
   "cell_type": "markdown",
   "metadata": {},
   "source": [
    "## Predicting UK Not News by URL pattern\n",
    "\n",
    "We predict not news using URL structure.\n",
    "\n",
    "Bakshy et al. for instance use the following logic:\n",
    "\n",
    "\thard_lab    Indicates whether the url (below) matches the regex: 'politi|usnews|world|national|state|elect|vote|govern|campaign|war|polic|econ|unemploy|racis|energy|abortion|educa|healthcare|immigration'\n",
    "\tsoft_lab    Indicates whether the url matches the regex: 'sports|entertainment|arts|fashion|style|lifestyle|leisure|celeb|movie|music|gossip|food|travel|horoscope|weather|gadget'\n",
    "\n",
    "\n",
    "The scheme is based on U.S. data so not as useful for U.K. data. After carefully inspecting a random sample of thousand URLs, we came up with the following:\n",
    "    \n",
    "\thard_lab    Indicates whether the url (below) matches the regex: 'politi|world|national|state|elect|vote|govern|campaign|war|polic|econ|unemploy|energy|educa|healthcare|immigration'\n",
    "\tsoft_lab    Indicates whether the url matches the regex: 'sports|entertainment|arts|fashion|style|lifestyle|leisure|celeb|movie|music|gossip|food|travel|horoscope|weather|gadget'\n",
    "\n",
    "p.s. 'soft_lab' means not news.\n",
    "\n",
    "### Read in the data"
   ]
  },
  {
   "cell_type": "code",
   "execution_count": 1,
   "metadata": {},
   "outputs": [],
   "source": [
    "import pandas as pd\n",
    "pd.set_option('display.max_colwidth', 120)"
   ]
  },
  {
   "cell_type": "code",
   "execution_count": 2,
   "metadata": {},
   "outputs": [
    {
     "data": {
      "text/html": [
       "<div>\n",
       "<style scoped>\n",
       "    .dataframe tbody tr th:only-of-type {\n",
       "        vertical-align: middle;\n",
       "    }\n",
       "\n",
       "    .dataframe tbody tr th {\n",
       "        vertical-align: top;\n",
       "    }\n",
       "\n",
       "    .dataframe thead th {\n",
       "        text-align: right;\n",
       "    }\n",
       "</style>\n",
       "<table border=\"1\" class=\"dataframe\">\n",
       "  <thead>\n",
       "    <tr style=\"text-align: right;\">\n",
       "      <th></th>\n",
       "      <th>text</th>\n",
       "      <th>url</th>\n",
       "      <th>src_name</th>\n",
       "    </tr>\n",
       "  </thead>\n",
       "  <tbody>\n",
       "    <tr>\n",
       "      <th>0</th>\n",
       "      <td>highpressur day work drink pint locallybrew real ale mani peopl prefer way relax anaesthetist aldebi near beccl turn...</td>\n",
       "      <td>http://www.becclesandbungayjournal.co.uk/content/bbjournal/news/story.aspx?brand=BBJOnline&amp;category=NEWS&amp;tBrand=bbjo...</td>\n",
       "      <td>beccles and bungay journal</td>\n",
       "    </tr>\n",
       "    <tr>\n",
       "      <th>1</th>\n",
       "      <td>weather forecast remain extrem cold come day suffolk counti council extend usual custom servic helplin oper weekend ...</td>\n",
       "      <td>http://www.becclesandbungayjournal.co.uk/content/bbjournal/news/story.aspx?brand=BBJOnline&amp;category=NEWS&amp;tBrand=bbjo...</td>\n",
       "      <td>beccles and bungay journal</td>\n",
       "    </tr>\n",
       "    <tr>\n",
       "      <th>2</th>\n",
       "      <td>elderli vulner peopl live council hous waveney protect new crackdown antisoci behaviour waveney district council new...</td>\n",
       "      <td>http://www.becclesandbungayjournal.co.uk/content/bbjournal/news/story.aspx?brand=BBJOnline&amp;category=NEWS&amp;tBrand=bbjo...</td>\n",
       "      <td>beccles and bungay journal</td>\n",
       "    </tr>\n",
       "    <tr>\n",
       "      <th>3</th>\n",
       "      <td>villag award energysav project set spend reduc fuel bill whole commun wenhaston south halesworth name one greenest v...</td>\n",
       "      <td>http://www.becclesandbungayjournal.co.uk/content/bbjournal/news/story.aspx?brand=BBJOnline&amp;category=NEWS&amp;tBrand=bbjo...</td>\n",
       "      <td>beccles and bungay journal</td>\n",
       "    </tr>\n",
       "    <tr>\n",
       "      <th>4</th>\n",
       "      <td>tuesday saw first beccl v bungay golf match year produc ace beccl play home led ladi captain sam cooper partner club...</td>\n",
       "      <td>http://www.becclesandbungayjournal.co.uk/content/bbjournal/sport/story.aspx?brand=BBJOnline&amp;category=SPORT&amp;tBrand=bb...</td>\n",
       "      <td>beccles and bungay journal</td>\n",
       "    </tr>\n",
       "  </tbody>\n",
       "</table>\n",
       "</div>"
      ],
      "text/plain": [
       "                                                                                                                      text  \\\n",
       "0  highpressur day work drink pint locallybrew real ale mani peopl prefer way relax anaesthetist aldebi near beccl turn...   \n",
       "1  weather forecast remain extrem cold come day suffolk counti council extend usual custom servic helplin oper weekend ...   \n",
       "2  elderli vulner peopl live council hous waveney protect new crackdown antisoci behaviour waveney district council new...   \n",
       "3  villag award energysav project set spend reduc fuel bill whole commun wenhaston south halesworth name one greenest v...   \n",
       "4  tuesday saw first beccl v bungay golf match year produc ace beccl play home led ladi captain sam cooper partner club...   \n",
       "\n",
       "                                                                                                                       url  \\\n",
       "0  http://www.becclesandbungayjournal.co.uk/content/bbjournal/news/story.aspx?brand=BBJOnline&category=NEWS&tBrand=bbjo...   \n",
       "1  http://www.becclesandbungayjournal.co.uk/content/bbjournal/news/story.aspx?brand=BBJOnline&category=NEWS&tBrand=bbjo...   \n",
       "2  http://www.becclesandbungayjournal.co.uk/content/bbjournal/news/story.aspx?brand=BBJOnline&category=NEWS&tBrand=bbjo...   \n",
       "3  http://www.becclesandbungayjournal.co.uk/content/bbjournal/news/story.aspx?brand=BBJOnline&category=NEWS&tBrand=bbjo...   \n",
       "4  http://www.becclesandbungayjournal.co.uk/content/bbjournal/sport/story.aspx?brand=BBJOnline&category=SPORT&tBrand=bb...   \n",
       "\n",
       "                     src_name  \n",
       "0  beccles and bungay journal  \n",
       "1  beccles and bungay journal  \n",
       "2  beccles and bungay journal  \n",
       "3  beccles and bungay journal  \n",
       "4  beccles and bungay journal  "
      ]
     },
     "execution_count": 2,
     "metadata": {},
     "output_type": "execute_result"
    }
   ],
   "source": [
    "df = pd.read_csv('/opt/notebooks/not_news/tabs/uk_news_media_data_subset_by_label.csv.gz', usecols=['label', 'url', 'text'])\n",
    "df['src_name'] = df['label'].str.lower()\n",
    "del df['label']\n",
    "df.head()"
   ]
  },
  {
   "cell_type": "code",
   "execution_count": 3,
   "metadata": {},
   "outputs": [
    {
     "data": {
      "text/plain": [
       "5392953"
      ]
     },
     "execution_count": 3,
     "metadata": {},
     "output_type": "execute_result"
    }
   ],
   "source": [
    "df.shape[0]"
   ]
  },
  {
   "cell_type": "markdown",
   "metadata": {},
   "source": [
    "### Generate Labels"
   ]
  },
  {
   "cell_type": "code",
   "execution_count": 4,
   "metadata": {},
   "outputs": [],
   "source": [
    "import re\n",
    "hard_lab = re.compile('(politi|world|national|uk-news|scottish-news|news-eu|state|local|elect|vote|govern|campaign|war|polic|econ|unemploy|energy|educa|healthcare|immigration)')\n",
    "soft_lab = re.compile('(sport|football|entertainment|culture|arts|fashion|style|lifestyle|life-style|leisure|celeb|movie|music|gossip|food|travel|horoscope|weather|gadget)')"
   ]
  },
  {
   "cell_type": "markdown",
   "metadata": {},
   "source": [
    "### Create Training Data"
   ]
  },
  {
   "cell_type": "code",
   "execution_count": 5,
   "metadata": {},
   "outputs": [
    {
     "data": {
      "text/html": [
       "<div>\n",
       "<style scoped>\n",
       "    .dataframe tbody tr th:only-of-type {\n",
       "        vertical-align: middle;\n",
       "    }\n",
       "\n",
       "    .dataframe tbody tr th {\n",
       "        vertical-align: top;\n",
       "    }\n",
       "\n",
       "    .dataframe thead th {\n",
       "        text-align: right;\n",
       "    }\n",
       "</style>\n",
       "<table border=\"1\" class=\"dataframe\">\n",
       "  <thead>\n",
       "    <tr style=\"text-align: right;\">\n",
       "      <th></th>\n",
       "      <th>text</th>\n",
       "      <th>url</th>\n",
       "      <th>src_name</th>\n",
       "    </tr>\n",
       "  </thead>\n",
       "  <tbody>\n",
       "    <tr>\n",
       "      <th>1294994</th>\n",
       "      <td>man name local geraint evan appear aberdar magistr court accus murder father paul bennett father two stab death grou...</td>\n",
       "      <td>http://www.peterboroughet.co.uk/viewarticle.aspx?articleid=2126845&amp;sectionid=406</td>\n",
       "      <td>peterborough evening telegraph</td>\n",
       "    </tr>\n",
       "    <tr>\n",
       "      <th>2453364</th>\n",
       "      <td>lead polic chief today condemn armchair perfect health safeti taliban prevent offic carri job say put live risk sir ...</td>\n",
       "      <td>http://www.guardian.co.uk/Politics/homeaffairs/story/0,,2206622,00.htm</td>\n",
       "      <td>the guardian</td>\n",
       "    </tr>\n",
       "    <tr>\n",
       "      <th>121854</th>\n",
       "      <td>west brom bolton took point live barclay premier leagu encount hawthorn wander went front midway second half thank s...</td>\n",
       "      <td>http://www.birminghammail.net/birmingham-sport/west-bromwich-albion-fc/west-bromwich-albion-fc-news/2010/10/02/west-...</td>\n",
       "      <td>birmingham mail</td>\n",
       "    </tr>\n",
       "    <tr>\n",
       "      <th>1077388</th>\n",
       "      <td>east england ambul servic norwich offic hellesdon east england ambul servic norwich offic hellesdon solar panel inst...</td>\n",
       "      <td>http://www.edp24.co.uk/solar_panels_installed_at_norwich_ambulance_control_room_1_225106</td>\n",
       "      <td>eastern daily press</td>\n",
       "    </tr>\n",
       "    <tr>\n",
       "      <th>2926234</th>\n",
       "      <td>wit say man went stab spree belgian nurseri face paint like joker two babi carer die attack ten children treat hospi...</td>\n",
       "      <td>http://www.belfasttelegraph.co.uk/breaking-news/world/europe/belgian-nursery-killer-painted-face-like-the-joker-1415...</td>\n",
       "      <td>belfast telegraph</td>\n",
       "    </tr>\n",
       "  </tbody>\n",
       "</table>\n",
       "</div>"
      ],
      "text/plain": [
       "                                                                                                                            text  \\\n",
       "1294994  man name local geraint evan appear aberdar magistr court accus murder father paul bennett father two stab death grou...   \n",
       "2453364  lead polic chief today condemn armchair perfect health safeti taliban prevent offic carri job say put live risk sir ...   \n",
       "121854   west brom bolton took point live barclay premier leagu encount hawthorn wander went front midway second half thank s...   \n",
       "1077388  east england ambul servic norwich offic hellesdon east england ambul servic norwich offic hellesdon solar panel inst...   \n",
       "2926234  wit say man went stab spree belgian nurseri face paint like joker two babi carer die attack ten children treat hospi...   \n",
       "\n",
       "                                                                                                                             url  \\\n",
       "1294994                                         http://www.peterboroughet.co.uk/viewarticle.aspx?articleid=2126845&sectionid=406   \n",
       "2453364                                                   http://www.guardian.co.uk/Politics/homeaffairs/story/0,,2206622,00.htm   \n",
       "121854   http://www.birminghammail.net/birmingham-sport/west-bromwich-albion-fc/west-bromwich-albion-fc-news/2010/10/02/west-...   \n",
       "1077388                                 http://www.edp24.co.uk/solar_panels_installed_at_norwich_ambulance_control_room_1_225106   \n",
       "2926234  http://www.belfasttelegraph.co.uk/breaking-news/world/europe/belgian-nursery-killer-painted-face-like-the-joker-1415...   \n",
       "\n",
       "                               src_name  \n",
       "1294994  peterborough evening telegraph  \n",
       "2453364                    the guardian  \n",
       "121854                  birmingham mail  \n",
       "1077388             eastern daily press  \n",
       "2926234               belfast telegraph  "
      ]
     },
     "execution_count": 5,
     "metadata": {},
     "output_type": "execute_result"
    }
   ],
   "source": [
    "sdf = df[df.text.notnull() & df.url.notnull()].sample(1000000, random_state=4).copy()\n",
    "sdf.head()"
   ]
  },
  {
   "cell_type": "code",
   "execution_count": 6,
   "metadata": {},
   "outputs": [
    {
     "data": {
      "text/plain": [
       "80"
      ]
     },
     "execution_count": 6,
     "metadata": {},
     "output_type": "execute_result"
    }
   ],
   "source": [
    "# Free up memory\n",
    "import gc\n",
    "%xdel df\n",
    "gc.collect()"
   ]
  },
  {
   "cell_type": "code",
   "execution_count": 7,
   "metadata": {},
   "outputs": [
    {
     "data": {
      "text/html": [
       "<div>\n",
       "<style scoped>\n",
       "    .dataframe tbody tr th:only-of-type {\n",
       "        vertical-align: middle;\n",
       "    }\n",
       "\n",
       "    .dataframe tbody tr th {\n",
       "        vertical-align: top;\n",
       "    }\n",
       "\n",
       "    .dataframe thead th {\n",
       "        text-align: right;\n",
       "    }\n",
       "</style>\n",
       "<table border=\"1\" class=\"dataframe\">\n",
       "  <thead>\n",
       "    <tr style=\"text-align: right;\">\n",
       "      <th></th>\n",
       "      <th>text</th>\n",
       "      <th>url</th>\n",
       "      <th>src_name</th>\n",
       "      <th>hard_lab</th>\n",
       "    </tr>\n",
       "  </thead>\n",
       "  <tbody>\n",
       "    <tr>\n",
       "      <th>1294994</th>\n",
       "      <td>man name local geraint evan appear aberdar magistr court accus murder father paul bennett father two stab death grou...</td>\n",
       "      <td>http://www.peterboroughet.co.uk/viewarticle.aspx?articleid=2126845&amp;sectionid=406</td>\n",
       "      <td>peterborough evening telegraph</td>\n",
       "      <td>1.0</td>\n",
       "    </tr>\n",
       "    <tr>\n",
       "      <th>2926234</th>\n",
       "      <td>wit say man went stab spree belgian nurseri face paint like joker two babi carer die attack ten children treat hospi...</td>\n",
       "      <td>http://www.belfasttelegraph.co.uk/breaking-news/world/europe/belgian-nursery-killer-painted-face-like-the-joker-1415...</td>\n",
       "      <td>belfast telegraph</td>\n",
       "      <td>1.0</td>\n",
       "    </tr>\n",
       "    <tr>\n",
       "      <th>2950250</th>\n",
       "      <td>monday januari local news member ahmadiyya muslim youth associ member ahmadiyya muslim youth associ member ahmadiyya...</td>\n",
       "      <td>http://www.croydonguardian.co.uk/news/localnews/10175440.Muslim_group_pitches_in_to_clear_snow/?ref=rs</td>\n",
       "      <td>croydon guardian</td>\n",
       "      <td>1.0</td>\n",
       "    </tr>\n",
       "    <tr>\n",
       "      <th>5005952</th>\n",
       "      <td>england face prospect follow india oval anoth lowerord bat collaps face task score final match seri ensur indian bat...</td>\n",
       "      <td>http://www.skegnesstoday.co.uk/latest-national-sport?articleid=310453</td>\n",
       "      <td>skegness today</td>\n",
       "      <td>1.0</td>\n",
       "    </tr>\n",
       "    <tr>\n",
       "      <th>3827845</th>\n",
       "      <td>polic today reveal lead forc new neighbourhood team follow costcut shakeup commun beat dian bradburi number individu...</td>\n",
       "      <td>http://www.newsandstar.co.uk/news/cumbria-police-reveals-inspectors-in-charge-of-force-s-new-local-teams-1.799776?re...</td>\n",
       "      <td>news &amp; star</td>\n",
       "      <td>1.0</td>\n",
       "    </tr>\n",
       "  </tbody>\n",
       "</table>\n",
       "</div>"
      ],
      "text/plain": [
       "                                                                                                                            text  \\\n",
       "1294994  man name local geraint evan appear aberdar magistr court accus murder father paul bennett father two stab death grou...   \n",
       "2926234  wit say man went stab spree belgian nurseri face paint like joker two babi carer die attack ten children treat hospi...   \n",
       "2950250  monday januari local news member ahmadiyya muslim youth associ member ahmadiyya muslim youth associ member ahmadiyya...   \n",
       "5005952  england face prospect follow india oval anoth lowerord bat collaps face task score final match seri ensur indian bat...   \n",
       "3827845  polic today reveal lead forc new neighbourhood team follow costcut shakeup commun beat dian bradburi number individu...   \n",
       "\n",
       "                                                                                                                             url  \\\n",
       "1294994                                         http://www.peterboroughet.co.uk/viewarticle.aspx?articleid=2126845&sectionid=406   \n",
       "2926234  http://www.belfasttelegraph.co.uk/breaking-news/world/europe/belgian-nursery-killer-painted-face-like-the-joker-1415...   \n",
       "2950250                   http://www.croydonguardian.co.uk/news/localnews/10175440.Muslim_group_pitches_in_to_clear_snow/?ref=rs   \n",
       "5005952                                                    http://www.skegnesstoday.co.uk/latest-national-sport?articleid=310453   \n",
       "3827845  http://www.newsandstar.co.uk/news/cumbria-police-reveals-inspectors-in-charge-of-force-s-new-local-teams-1.799776?re...   \n",
       "\n",
       "                               src_name  hard_lab  \n",
       "1294994  peterborough evening telegraph       1.0  \n",
       "2926234               belfast telegraph       1.0  \n",
       "2950250                croydon guardian       1.0  \n",
       "5005952                  skegness today       1.0  \n",
       "3827845                     news & star       1.0  "
      ]
     },
     "execution_count": 7,
     "metadata": {},
     "output_type": "execute_result"
    }
   ],
   "source": [
    "def is_hard_lab(c):\n",
    "    m = hard_lab.search(c)\n",
    "    return 1 if m else None\n",
    "\n",
    "sdf['hard_lab'] = sdf['url'].apply(lambda c: is_hard_lab(c))\n",
    "sdf[sdf.hard_lab == 1].head()"
   ]
  },
  {
   "cell_type": "code",
   "execution_count": 8,
   "metadata": {},
   "outputs": [
    {
     "data": {
      "text/html": [
       "<div>\n",
       "<style scoped>\n",
       "    .dataframe tbody tr th:only-of-type {\n",
       "        vertical-align: middle;\n",
       "    }\n",
       "\n",
       "    .dataframe tbody tr th {\n",
       "        vertical-align: top;\n",
       "    }\n",
       "\n",
       "    .dataframe thead th {\n",
       "        text-align: right;\n",
       "    }\n",
       "</style>\n",
       "<table border=\"1\" class=\"dataframe\">\n",
       "  <thead>\n",
       "    <tr style=\"text-align: right;\">\n",
       "      <th></th>\n",
       "      <th>text</th>\n",
       "      <th>url</th>\n",
       "      <th>src_name</th>\n",
       "      <th>hard_lab</th>\n",
       "      <th>soft_lab</th>\n",
       "    </tr>\n",
       "  </thead>\n",
       "  <tbody>\n",
       "    <tr>\n",
       "      <th>121854</th>\n",
       "      <td>west brom bolton took point live barclay premier leagu encount hawthorn wander went front midway second half thank s...</td>\n",
       "      <td>http://www.birminghammail.net/birmingham-sport/west-bromwich-albion-fc/west-bromwich-albion-fc-news/2010/10/02/west-...</td>\n",
       "      <td>birmingham mail</td>\n",
       "      <td>NaN</td>\n",
       "      <td>1.0</td>\n",
       "    </tr>\n",
       "    <tr>\n",
       "      <th>5005952</th>\n",
       "      <td>england face prospect follow india oval anoth lowerord bat collaps face task score final match seri ensur indian bat...</td>\n",
       "      <td>http://www.skegnesstoday.co.uk/latest-national-sport?articleid=310453</td>\n",
       "      <td>skegness today</td>\n",
       "      <td>1.0</td>\n",
       "      <td>1.0</td>\n",
       "    </tr>\n",
       "    <tr>\n",
       "      <th>2184529</th>\n",
       "      <td>coast downhil gear cheaper honest john explain coast downhil gear cheaper fuel effici gearbox engag honest john bst ...</td>\n",
       "      <td>http://telegraph.feedsportal.com/c/32726/f/568313/s/161c1511/l/0L0Stelegraph0O0Cmotoring0Ccaradvice0Chonestjohn0C859...</td>\n",
       "      <td>the daily telegraph</td>\n",
       "      <td>NaN</td>\n",
       "      <td>1.0</td>\n",
       "    </tr>\n",
       "    <tr>\n",
       "      <th>3160926</th>\n",
       "      <td>villa seal collin deal sep aston villa complet sign west ham defend jame collin fouryear contract welsh intern put p...</td>\n",
       "      <td>http://www.examiner.co.uk/news/national-sport/2009/09/01/villa-seal-collins-deal-86081-24582146</td>\n",
       "      <td>the huddersfield daily examiner</td>\n",
       "      <td>1.0</td>\n",
       "      <td>1.0</td>\n",
       "    </tr>\n",
       "    <tr>\n",
       "      <th>5224091</th>\n",
       "      <td>late show delight lambert sunday januari nation sport news press associ skip social link print email tweet paul lamb...</td>\n",
       "      <td>http://www.somersetcountygazette.co.uk/uk_national_sport/9446365.Late_show_delights_Lambert/?ref=rs</td>\n",
       "      <td>somerset county gazette</td>\n",
       "      <td>1.0</td>\n",
       "      <td>1.0</td>\n",
       "    </tr>\n",
       "  </tbody>\n",
       "</table>\n",
       "</div>"
      ],
      "text/plain": [
       "                                                                                                                            text  \\\n",
       "121854   west brom bolton took point live barclay premier leagu encount hawthorn wander went front midway second half thank s...   \n",
       "5005952  england face prospect follow india oval anoth lowerord bat collaps face task score final match seri ensur indian bat...   \n",
       "2184529  coast downhil gear cheaper honest john explain coast downhil gear cheaper fuel effici gearbox engag honest john bst ...   \n",
       "3160926  villa seal collin deal sep aston villa complet sign west ham defend jame collin fouryear contract welsh intern put p...   \n",
       "5224091  late show delight lambert sunday januari nation sport news press associ skip social link print email tweet paul lamb...   \n",
       "\n",
       "                                                                                                                             url  \\\n",
       "121854   http://www.birminghammail.net/birmingham-sport/west-bromwich-albion-fc/west-bromwich-albion-fc-news/2010/10/02/west-...   \n",
       "5005952                                                    http://www.skegnesstoday.co.uk/latest-national-sport?articleid=310453   \n",
       "2184529  http://telegraph.feedsportal.com/c/32726/f/568313/s/161c1511/l/0L0Stelegraph0O0Cmotoring0Ccaradvice0Chonestjohn0C859...   \n",
       "3160926                          http://www.examiner.co.uk/news/national-sport/2009/09/01/villa-seal-collins-deal-86081-24582146   \n",
       "5224091                      http://www.somersetcountygazette.co.uk/uk_national_sport/9446365.Late_show_delights_Lambert/?ref=rs   \n",
       "\n",
       "                                src_name  hard_lab  soft_lab  \n",
       "121854                   birmingham mail       NaN       1.0  \n",
       "5005952                   skegness today       1.0       1.0  \n",
       "2184529              the daily telegraph       NaN       1.0  \n",
       "3160926  the huddersfield daily examiner       1.0       1.0  \n",
       "5224091          somerset county gazette       1.0       1.0  "
      ]
     },
     "execution_count": 8,
     "metadata": {},
     "output_type": "execute_result"
    }
   ],
   "source": [
    "def is_soft_lab(c):\n",
    "    m = soft_lab.search(c)\n",
    "    return 1 if m else None\n",
    "\n",
    "sdf['soft_lab'] = sdf['url'].apply(lambda c: is_soft_lab(c))\n",
    "sdf[sdf.soft_lab == 1].head()"
   ]
  },
  {
   "cell_type": "markdown",
   "metadata": {},
   "source": [
    "### Filter on rows where hard and soft labels are different\n",
    "\n",
    "We ignore URLs that have both keywords."
   ]
  },
  {
   "cell_type": "code",
   "execution_count": 9,
   "metadata": {},
   "outputs": [],
   "source": [
    "sdf.loc[(sdf.hard_lab == 1) & (sdf.soft_lab.isnull()), 'soft_news'] = 0\n",
    "sdf.loc[(sdf.hard_lab.isnull()) & (sdf.soft_lab == 1), 'soft_news'] = 1"
   ]
  },
  {
   "cell_type": "markdown",
   "metadata": {},
   "source": [
    "### Final Dataset"
   ]
  },
  {
   "cell_type": "code",
   "execution_count": 10,
   "metadata": {},
   "outputs": [
    {
     "data": {
      "text/html": [
       "<div>\n",
       "<style scoped>\n",
       "    .dataframe tbody tr th:only-of-type {\n",
       "        vertical-align: middle;\n",
       "    }\n",
       "\n",
       "    .dataframe tbody tr th {\n",
       "        vertical-align: top;\n",
       "    }\n",
       "\n",
       "    .dataframe thead th {\n",
       "        text-align: right;\n",
       "    }\n",
       "</style>\n",
       "<table border=\"1\" class=\"dataframe\">\n",
       "  <thead>\n",
       "    <tr style=\"text-align: right;\">\n",
       "      <th></th>\n",
       "      <th>text</th>\n",
       "      <th>url</th>\n",
       "      <th>src_name</th>\n",
       "      <th>hard_lab</th>\n",
       "      <th>soft_lab</th>\n",
       "      <th>soft_news</th>\n",
       "    </tr>\n",
       "  </thead>\n",
       "  <tbody>\n",
       "    <tr>\n",
       "      <th>0</th>\n",
       "      <td>man name local geraint evan appear aberdar magistr court accus murder father paul bennett father two stab death grou...</td>\n",
       "      <td>http://www.peterboroughet.co.uk/viewarticle.aspx?articleid=2126845&amp;sectionid=406</td>\n",
       "      <td>peterborough evening telegraph</td>\n",
       "      <td>1.0</td>\n",
       "      <td>NaN</td>\n",
       "      <td>0.0</td>\n",
       "    </tr>\n",
       "    <tr>\n",
       "      <th>1</th>\n",
       "      <td>west brom bolton took point live barclay premier leagu encount hawthorn wander went front midway second half thank s...</td>\n",
       "      <td>http://www.birminghammail.net/birmingham-sport/west-bromwich-albion-fc/west-bromwich-albion-fc-news/2010/10/02/west-...</td>\n",
       "      <td>birmingham mail</td>\n",
       "      <td>NaN</td>\n",
       "      <td>1.0</td>\n",
       "      <td>1.0</td>\n",
       "    </tr>\n",
       "    <tr>\n",
       "      <th>2</th>\n",
       "      <td>wit say man went stab spree belgian nurseri face paint like joker two babi carer die attack ten children treat hospi...</td>\n",
       "      <td>http://www.belfasttelegraph.co.uk/breaking-news/world/europe/belgian-nursery-killer-painted-face-like-the-joker-1415...</td>\n",
       "      <td>belfast telegraph</td>\n",
       "      <td>1.0</td>\n",
       "      <td>NaN</td>\n",
       "      <td>0.0</td>\n",
       "    </tr>\n",
       "    <tr>\n",
       "      <th>3</th>\n",
       "      <td>monday januari local news member ahmadiyya muslim youth associ member ahmadiyya muslim youth associ member ahmadiyya...</td>\n",
       "      <td>http://www.croydonguardian.co.uk/news/localnews/10175440.Muslim_group_pitches_in_to_clear_snow/?ref=rs</td>\n",
       "      <td>croydon guardian</td>\n",
       "      <td>1.0</td>\n",
       "      <td>NaN</td>\n",
       "      <td>0.0</td>\n",
       "    </tr>\n",
       "    <tr>\n",
       "      <th>4</th>\n",
       "      <td>polic today reveal lead forc new neighbourhood team follow costcut shakeup commun beat dian bradburi number individu...</td>\n",
       "      <td>http://www.newsandstar.co.uk/news/cumbria-police-reveals-inspectors-in-charge-of-force-s-new-local-teams-1.799776?re...</td>\n",
       "      <td>news &amp; star</td>\n",
       "      <td>1.0</td>\n",
       "      <td>NaN</td>\n",
       "      <td>0.0</td>\n",
       "    </tr>\n",
       "  </tbody>\n",
       "</table>\n",
       "</div>"
      ],
      "text/plain": [
       "                                                                                                                      text  \\\n",
       "0  man name local geraint evan appear aberdar magistr court accus murder father paul bennett father two stab death grou...   \n",
       "1  west brom bolton took point live barclay premier leagu encount hawthorn wander went front midway second half thank s...   \n",
       "2  wit say man went stab spree belgian nurseri face paint like joker two babi carer die attack ten children treat hospi...   \n",
       "3  monday januari local news member ahmadiyya muslim youth associ member ahmadiyya muslim youth associ member ahmadiyya...   \n",
       "4  polic today reveal lead forc new neighbourhood team follow costcut shakeup commun beat dian bradburi number individu...   \n",
       "\n",
       "                                                                                                                       url  \\\n",
       "0                                         http://www.peterboroughet.co.uk/viewarticle.aspx?articleid=2126845&sectionid=406   \n",
       "1  http://www.birminghammail.net/birmingham-sport/west-bromwich-albion-fc/west-bromwich-albion-fc-news/2010/10/02/west-...   \n",
       "2  http://www.belfasttelegraph.co.uk/breaking-news/world/europe/belgian-nursery-killer-painted-face-like-the-joker-1415...   \n",
       "3                   http://www.croydonguardian.co.uk/news/localnews/10175440.Muslim_group_pitches_in_to_clear_snow/?ref=rs   \n",
       "4  http://www.newsandstar.co.uk/news/cumbria-police-reveals-inspectors-in-charge-of-force-s-new-local-teams-1.799776?re...   \n",
       "\n",
       "                         src_name  hard_lab  soft_lab  soft_news  \n",
       "0  peterborough evening telegraph       1.0       NaN        0.0  \n",
       "1                 birmingham mail       NaN       1.0        1.0  \n",
       "2               belfast telegraph       1.0       NaN        0.0  \n",
       "3                croydon guardian       1.0       NaN        0.0  \n",
       "4                     news & star       1.0       NaN        0.0  "
      ]
     },
     "execution_count": 10,
     "metadata": {},
     "output_type": "execute_result"
    }
   ],
   "source": [
    "sdf = sdf[sdf.soft_news.notnull()]\n",
    "sdf = sdf.reset_index(drop=True)\n",
    "sdf.head()"
   ]
  },
  {
   "cell_type": "code",
   "execution_count": 11,
   "metadata": {},
   "outputs": [
    {
     "data": {
      "text/plain": [
       "372163"
      ]
     },
     "execution_count": 11,
     "metadata": {},
     "output_type": "execute_result"
    }
   ],
   "source": [
    "sdf.shape[0]"
   ]
  },
  {
   "cell_type": "markdown",
   "metadata": {},
   "source": [
    "### Modeling\n",
    "\n",
    "Split into train and test, and get non-sparse and moderately frequent bi- and tri-grams."
   ]
  },
  {
   "cell_type": "code",
   "execution_count": 12,
   "metadata": {},
   "outputs": [],
   "source": [
    "from sklearn.model_selection import train_test_split\n",
    "\n",
    "train_df, test_df = train_test_split(sdf, test_size=0.2, random_state=4)"
   ]
  },
  {
   "cell_type": "markdown",
   "metadata": {},
   "source": [
    "#### Build the bi- and tri-grams that appear in more than 50 outlets"
   ]
  },
  {
   "cell_type": "code",
   "execution_count": 13,
   "metadata": {},
   "outputs": [
    {
     "data": {
      "text/plain": [
       "<266x46711 sparse matrix of type '<class 'numpy.int64'>'\n",
       "\twith 3459361 stored elements in Compressed Sparse Row format>"
      ]
     },
     "execution_count": 13,
     "metadata": {},
     "output_type": "execute_result"
    }
   ],
   "source": [
    "from sklearn.feature_extraction.text import CountVectorizer\n",
    "\n",
    "vectorizer = CountVectorizer(\n",
    "  min_df=50,\n",
    "  ngram_range = (2, 3),\n",
    "  binary=True,\n",
    "  stop_words='english')\n",
    "vectorizer.fit_transform(sdf.groupby('src_name')['text'].agg(lambda x:' '.join(x)))"
   ]
  },
  {
   "cell_type": "code",
   "execution_count": 14,
   "metadata": {},
   "outputs": [
    {
     "data": {
      "text/plain": [
       "46711"
      ]
     },
     "execution_count": 14,
     "metadata": {},
     "output_type": "execute_result"
    }
   ],
   "source": [
    "vocab_set = set(vectorizer.vocabulary_)\n",
    "len(vocab_set)"
   ]
  },
  {
   "cell_type": "code",
   "execution_count": 15,
   "metadata": {},
   "outputs": [
    {
     "name": "stdout",
     "output_type": "stream",
     "text": [
      "Extracting features from the training dataset using a sparse vectorizer\n",
      "done in 854.719770s at 0.595MB/s\n",
      "n_samples: 297730, n_features: 60323\n"
     ]
    }
   ],
   "source": [
    "# Now classify w sklearn:\n",
    "from sklearn.feature_extraction.text import TfidfVectorizer\n",
    "from sklearn import metrics\n",
    "import numpy as np\n",
    "from time import time\n",
    "\n",
    "# Create text features (and store efficiently as sparse matrix).\n",
    "print(\"Extracting features from the training dataset using a sparse vectorizer\")\n",
    "t0 = time()\n",
    "\n",
    "vectorizer = TfidfVectorizer(\n",
    "  sublinear_tf=False,\n",
    "  max_df=0.5,\n",
    "  min_df=100,\n",
    "  ngram_range = (2,3),\n",
    "  use_idf=True,\n",
    "  max_features=500000,\n",
    "  stop_words='english')\n",
    "\n",
    "def size_mb(docs):\n",
    "      return sum(len(s.encode('utf-8')) for s in docs) / 1e6\n",
    "\n",
    "t0 = time()\n",
    "data_train_size_mb = size_mb(train_df['text'])\n",
    "X_traintfidf = vectorizer.fit_transform(train_df['text'])\n",
    "duration = time() - t0\n",
    "print(\"done in %fs at %0.3fMB/s\" % (duration, data_train_size_mb / duration))\n",
    "print(\"n_samples: %d, n_features: %d\" % X_traintfidf.shape)"
   ]
  },
  {
   "cell_type": "code",
   "execution_count": 16,
   "metadata": {},
   "outputs": [],
   "source": [
    "vocab = []\n",
    "for v in list(vectorizer.vocabulary_):\n",
    "    if v in vocab_set:\n",
    "        vocab.append(v)"
   ]
  },
  {
   "cell_type": "code",
   "execution_count": 17,
   "metadata": {},
   "outputs": [
    {
     "data": {
      "text/plain": [
       "37582"
      ]
     },
     "execution_count": 17,
     "metadata": {},
     "output_type": "execute_result"
    }
   ],
   "source": [
    "len(vocab)"
   ]
  },
  {
   "cell_type": "code",
   "execution_count": 18,
   "metadata": {},
   "outputs": [
    {
     "name": "stdout",
     "output_type": "stream",
     "text": [
      "done in 168.430691s at 3.019MB/s\n",
      "n_samples: 297730, n_features: 37582\n"
     ]
    }
   ],
   "source": [
    "vectorizer = TfidfVectorizer(\n",
    "  sublinear_tf=False,\n",
    "  ngram_range = (2,3),\n",
    "  use_idf=True,\n",
    "  vocabulary=vocab,\n",
    "  stop_words='english')\n",
    "\n",
    "t0 = time()\n",
    "data_train_size_mb = size_mb(train_df['text'])\n",
    "X_traintfidf = vectorizer.fit_transform(train_df['text'])\n",
    "duration = time() - t0\n",
    "print(\"done in %fs at %0.3fMB/s\" % (duration, data_train_size_mb / duration))\n",
    "print(\"n_samples: %d, n_features: %d\" % X_traintfidf.shape)"
   ]
  },
  {
   "cell_type": "markdown",
   "metadata": {},
   "source": [
    "### Output Random Sample of Train and Test\n",
    "\n",
    "This is to estimate generalization error and also get a sense of how often we have bad labels in the training data."
   ]
  },
  {
   "cell_type": "code",
   "execution_count": 19,
   "metadata": {},
   "outputs": [],
   "source": [
    "train_df.sample(1000, random_state=4).to_csv('sample/train_sample.csv', index_label='id')"
   ]
  },
  {
   "cell_type": "code",
   "execution_count": 20,
   "metadata": {},
   "outputs": [],
   "source": [
    "test_df.sample(1000, random_state=4).to_csv('sample/test_sample.csv', index_label='id')"
   ]
  },
  {
   "cell_type": "markdown",
   "metadata": {},
   "source": [
    "### Regularized Logistic Regression"
   ]
  },
  {
   "cell_type": "code",
   "execution_count": 22,
   "metadata": {},
   "outputs": [
    {
     "name": "stdout",
     "output_type": "stream",
     "text": [
      "CPU times: user 12.9 s, sys: 36.9 s, total: 49.8 s\n",
      "Wall time: 3min 37s\n"
     ]
    },
    {
     "data": {
      "text/plain": [
       "CalibratedClassifierCV(base_estimator=LogisticRegressionCV(Cs=10,\n",
       "                                                           class_weight=None,\n",
       "                                                           cv=5, dual=False,\n",
       "                                                           fit_intercept=True,\n",
       "                                                           intercept_scaling=1.0,\n",
       "                                                           l1_ratios=None,\n",
       "                                                           max_iter=300,\n",
       "                                                           multi_class='auto',\n",
       "                                                           n_jobs=-1,\n",
       "                                                           penalty='l2',\n",
       "                                                           random_state=42,\n",
       "                                                           refit=True,\n",
       "                                                           scoring=None,\n",
       "                                                           solver='lbfgs',\n",
       "                                                           tol=0.0001,\n",
       "                                                           verbose=0),\n",
       "                       cv=2, method='isotonic')"
      ]
     },
     "execution_count": 22,
     "metadata": {},
     "output_type": "execute_result"
    }
   ],
   "source": [
    "%%time\n",
    "from sklearn.linear_model import LogisticRegressionCV\n",
    "from sklearn.calibration import CalibratedClassifierCV\n",
    "\n",
    "est = LogisticRegressionCV(solver='lbfgs', cv=5, n_jobs=-1, random_state=42, max_iter=300)\n",
    "\n",
    "# Calibrated with isotonic calibration\n",
    "clf = CalibratedClassifierCV(est, cv=2, method='isotonic')\n",
    "\n",
    "# Now fit the model:\n",
    "clf.fit(X_traintfidf, train_df['soft_news'])"
   ]
  },
  {
   "cell_type": "code",
   "execution_count": 29,
   "metadata": {},
   "outputs": [
    {
     "data": {
      "text/plain": [
       "LogisticRegressionCV(Cs=10, class_weight=None, cv=5, dual=False,\n",
       "                     fit_intercept=True, intercept_scaling=1.0, l1_ratios=None,\n",
       "                     max_iter=300, multi_class='auto', n_jobs=-1, penalty='l2',\n",
       "                     random_state=42, refit=True, scoring=None, solver='lbfgs',\n",
       "                     tol=0.0001, verbose=0)"
      ]
     },
     "execution_count": 29,
     "metadata": {},
     "output_type": "execute_result"
    }
   ],
   "source": [
    "clf0 = clf.calibrated_classifiers_[0].base_estimator\n",
    "clf0"
   ]
  },
  {
   "cell_type": "code",
   "execution_count": 30,
   "metadata": {},
   "outputs": [
    {
     "data": {
      "text/plain": [
       "(array([0.35938137]),\n",
       " array([[[  4,   6,  10,  21,  47, 139, 300, 300, 300, 300],\n",
       "         [  4,   6,  10,  21,  51, 142, 300, 300, 300, 300],\n",
       "         [  4,   6,  10,  21,  47, 205, 300, 300, 300, 300],\n",
       "         [  4,   6,  10,  19,  63, 129, 300, 300, 300, 300],\n",
       "         [  4,   6,  10,  20,  46, 157, 300, 300, 300, 300]]], dtype=int32),\n",
       " array([1.00000000e-04, 7.74263683e-04, 5.99484250e-03, 4.64158883e-02,\n",
       "        3.59381366e-01, 2.78255940e+00, 2.15443469e+01, 1.66810054e+02,\n",
       "        1.29154967e+03, 1.00000000e+04]))"
      ]
     },
     "execution_count": 30,
     "metadata": {},
     "output_type": "execute_result"
    }
   ],
   "source": [
    "clf0.C_, clf0.n_iter_, clf0.Cs_"
   ]
  },
  {
   "cell_type": "markdown",
   "metadata": {},
   "source": [
    "### Most informative features"
   ]
  },
  {
   "cell_type": "code",
   "execution_count": 33,
   "metadata": {},
   "outputs": [
    {
     "name": "stdout",
     "output_type": "stream",
     "text": [
      "\t-8.3169\tnation news    \t\t16.4527\trelat articl   \n",
      "\t-5.5384\tcomment new    \t\t13.4739\temail text     \n",
      "\t-5.4122\treport abus    \t\t4.9330\tpremier leagu  \n",
      "\t-4.6710\tprime minist   \t\t4.2876\tlarg section   \n",
      "\t-4.1368\tgordon brown   \t\t3.6895\tlaw order      \n",
      "\t-4.0253\tpolic offic    \t\t3.4017\temail friend print\n",
      "\t-3.8170\tlocal news     \t\t3.3684\tsecond half    \n",
      "\t-3.5501\tpolic said     \t\t3.3375\tend season     \n",
      "\t-3.3918\tcomment articl \t\t3.3151\tfriend print page\n",
      "\t-3.1222\tpress associ   \t\t3.2887\tchampion leagu \n",
      "\t-2.9781\tbarack obama   \t\t3.2844\tfriend print   \n",
      "\t-2.9548\tunit kingdom   \t\t3.0314\tbox offic      \n",
      "\t-2.8924\tcomment post   \t\t3.0053\tmanchest citi  \n",
      "\t-2.8870\tcomment http   \t\t2.7880\taston villa    \n",
      "\t-2.8421\tanyon inform   \t\t2.6072\tscore goal     \n",
      "\t-2.8393\toffici said    \t\t2.5759\tfood safeti    \n",
      "\t-2.8213\tlocal govern   \t\t2.5514\tgrand prix     \n",
      "\t-2.8011\tkill peopl     \t\t2.5367\tblackburn rover\n",
      "\t-2.7298\thigher educ    \t\t2.5314\ttv news        \n",
      "\t-2.6938\tspokesman said \t\t2.5101\tcelebr year    \n",
      "\t-2.6882\tgener elect    \t\t2.4974\tbritain apo    \n",
      "\t-2.6423\tliber democrat \t\t2.4937\twest brom      \n",
      "\t-2.6314\tpeopl kill     \t\t2.4309\thead coach     \n",
      "\t-2.6060\tcrown court    \t\t2.3724\tfootbal associ \n",
      "\t-2.5906\treport said    \t\t2.3683\tleisur centr   \n",
      "\t-2.5895\tscottish govern\t\t2.3574\tnew album      \n",
      "\t-2.5815\tsaid mr        \t\t2.3570\tlatest news    \n",
      "\t-2.4582\tperson use     \t\t2.3552\tfa cup         \n",
      "\t-2.4575\tpolic station  \t\t2.3457\tfood drink     \n",
      "\t-2.4534\tnews agenc     \t\t2.3453\twest ham       \n",
      "\t-2.4368\tmr brown       \t\t2.3025\toxford unit    \n",
      "\t-2.4107\tpolic investig \t\t2.3006\taccrington stanley\n",
      "\t-2.3586\tforeign minist \t\t2.2910\toliv oil       \n",
      "\t-2.3553\tquot http      \t\t2.2847\ttravel site    \n",
      "\t-2.2930\tadd comment    \t\t2.2838\treal madrid    \n",
      "\t-2.2882\tnews stori     \t\t2.2812\tlondon olymp   \n",
      "\t-2.2879\tspokeswoman said\t\t2.2662\tdebt crisi     \n",
      "\t-2.2511\tshot dead      \t\t2.2632\tleagu divis    \n",
      "\t-2.2459\ttold bbc       \t\t2.2601\twest indi      \n",
      "\t-2.2146\tconsid action  \t\t2.2242\theineken cup   \n",
      "\t-2.1929\tministri defenc\t\t2.1937\tmanchest unit  \n",
      "\t-2.1850\tmedia group    \t\t2.1903\tstart season   \n",
      "\t-2.1786\tpeopl die      \t\t2.1622\tcounti championship\n",
      "\t-2.1682\tappear press   \t\t2.1336\tfilm festiv    \n",
      "\t-2.1491\tsecur forc     \t\t2.1203\tfeel like      \n",
      "\t-2.1449\thillari clinton\t\t2.0802\tlo angel       \n",
      "\t-2.0742\tindustri action\t\t2.0705\tlive council   \n",
      "\t-2.0619\tnation award   \t\t2.0691\tdebut album    \n",
      "\t-2.0387\tpolic warn     \t\t2.0680\tsuper leagu    \n",
      "\t-2.0346\thelmand provinc\t\t2.0625\ttv radio       \n"
     ]
    }
   ],
   "source": [
    "def show_most_informative_features(vectorizer, clf, n=20):\n",
    "    c_f = sorted(zip(clf.coef_[0], vectorizer.get_feature_names()))\n",
    "    top = zip(c_f[:n], c_f[:-(n+1):-1])\n",
    "    for (c1,f1),(c2,f2) in top:\n",
    "        print(\"\\t%.4f\\t%-15s\\t\\t%.4f\\t%-15s\" % (c1,f1,c2,f2))\n",
    "\n",
    "show_most_informative_features(vectorizer=vectorizer, clf=clf0, n=50)"
   ]
  },
  {
   "cell_type": "code",
   "execution_count": 34,
   "metadata": {},
   "outputs": [],
   "source": [
    "X_testtfidf = vectorizer.transform(test_df['text'])"
   ]
  },
  {
   "cell_type": "code",
   "execution_count": 35,
   "metadata": {},
   "outputs": [
    {
     "data": {
      "text/plain": [
       "<74433x37582 sparse matrix of type '<class 'numpy.float64'>'\n",
       "\twith 2779732 stored elements in Compressed Sparse Row format>"
      ]
     },
     "execution_count": 35,
     "metadata": {},
     "output_type": "execute_result"
    }
   ],
   "source": [
    "X_testtfidf"
   ]
  },
  {
   "cell_type": "markdown",
   "metadata": {},
   "source": [
    "### Performance in Test Data"
   ]
  },
  {
   "cell_type": "code",
   "execution_count": 36,
   "metadata": {},
   "outputs": [
    {
     "name": "stdout",
     "output_type": "stream",
     "text": [
      "              precision    recall  f1-score   support\n",
      "\n",
      "         0.0       0.87      0.88      0.88     38521\n",
      "         1.0       0.87      0.86      0.87     35912\n",
      "\n",
      "    accuracy                           0.87     74433\n",
      "   macro avg       0.87      0.87      0.87     74433\n",
      "weighted avg       0.87      0.87      0.87     74433\n",
      "\n"
     ]
    }
   ],
   "source": [
    "# Predict on test data:\n",
    "y_test_pred = clf.predict(X_testtfidf)\n",
    "print(metrics.classification_report(test_df['soft_news'], y_test_pred))"
   ]
  },
  {
   "cell_type": "markdown",
   "metadata": {},
   "source": [
    "### Performance in Training Data"
   ]
  },
  {
   "cell_type": "code",
   "execution_count": 37,
   "metadata": {},
   "outputs": [
    {
     "name": "stdout",
     "output_type": "stream",
     "text": [
      "              precision    recall  f1-score   support\n",
      "\n",
      "         0.0       0.88      0.89      0.88    154000\n",
      "         1.0       0.88      0.87      0.87    143730\n",
      "\n",
      "    accuracy                           0.88    297730\n",
      "   macro avg       0.88      0.88      0.88    297730\n",
      "weighted avg       0.88      0.88      0.88    297730\n",
      "\n"
     ]
    }
   ],
   "source": [
    "y_train_pred = clf.predict(X_traintfidf)\n",
    "print(metrics.classification_report(train_df['soft_news'], y_train_pred))"
   ]
  },
  {
   "cell_type": "markdown",
   "metadata": {},
   "source": [
    "### Hard News"
   ]
  },
  {
   "cell_type": "code",
   "execution_count": 38,
   "metadata": {},
   "outputs": [
    {
     "data": {
      "text/html": [
       "<div>\n",
       "<style scoped>\n",
       "    .dataframe tbody tr th:only-of-type {\n",
       "        vertical-align: middle;\n",
       "    }\n",
       "\n",
       "    .dataframe tbody tr th {\n",
       "        vertical-align: top;\n",
       "    }\n",
       "\n",
       "    .dataframe thead th {\n",
       "        text-align: right;\n",
       "    }\n",
       "</style>\n",
       "<table border=\"1\" class=\"dataframe\">\n",
       "  <thead>\n",
       "    <tr style=\"text-align: right;\">\n",
       "      <th></th>\n",
       "      <th>index</th>\n",
       "      <th>text</th>\n",
       "    </tr>\n",
       "  </thead>\n",
       "  <tbody>\n",
       "    <tr>\n",
       "      <th>13916</th>\n",
       "      <td>188030</td>\n",
       "      <td>togeth make histori last line speech hillari clinton deliv peopl sioux fall fairground south dakota monday night meant cours would make histori elect first woman presid america histori anoth sort play us would turn last joint campaign appear call first famili democrat parti mr clinton husband bi...</td>\n",
       "    </tr>\n",
       "    <tr>\n",
       "      <th>3878</th>\n",
       "      <td>146219</td>\n",
       "      <td>labour leadership hope david miliband spoke publicli first time long struggl children wife louis decis adopt year ivf treatment fail mr miliband decis discuss privat life seen sign determin show abl open let public get know person way demand polit leader modern world highli person interview time...</td>\n",
       "    </tr>\n",
       "    <tr>\n",
       "      <th>33183</th>\n",
       "      <td>304842</td>\n",
       "      <td>current uk regul meat industri review determin whether chang need prevent outbreak diseas e coli accord review report releas yesterday report wale regul make nine recommend forward hugh pennington scientist charg hold public inquiri outbreak e coli kill schoolchild lead other fall sick inquiri d...</td>\n",
       "    </tr>\n",
       "    <tr>\n",
       "      <th>37582</th>\n",
       "      <td>142834</td>\n",
       "      <td>stacey solomon x factor dream came end perform michael bubl fail woo vote public olli mur joe mcelderri battl titl record contract likelihood christma number one sunday night eagerlyanticip final contest top one lucr weekend british broadcast extend result show creat prime advertis spot front ex...</td>\n",
       "    </tr>\n",
       "    <tr>\n",
       "      <th>21020</th>\n",
       "      <td>279846</td>\n",
       "      <td>govern minist refus rule deploy british ground troop libya arm forc minist nick harvey said clear distinct send fullscal occup forc ban term unit nation mandat limit intervent also acknowledg libya could face prolong stalem rebel secur east countri unabl break colonel muammar gaddafi stranglehol...</td>\n",
       "    </tr>\n",
       "    <tr>\n",
       "      <th>14761</th>\n",
       "      <td>80459</td>\n",
       "      <td>sunday may nation news press associ pair armi boot among flower area becom shrine drummer lee rigbi pair armi boot among flower area becom shrine drummer lee rigbi servic dedic drummer rigbi take place st peter apostl roman cathol church woolwich father michael branch lead servic encourag peopl ...</td>\n",
       "    </tr>\n",
       "    <tr>\n",
       "      <th>702</th>\n",
       "      <td>2320</td>\n",
       "      <td>plan enabl ten thousand neediest pension remain home due form centrepiec govern final legisl programm gener elect less seven month countri must go poll gordon brown use queen speech present seri populist bill design set battlelin forthcom elect campaign well ensur free person care elderli disabl...</td>\n",
       "    </tr>\n",
       "    <tr>\n",
       "      <th>28013</th>\n",
       "      <td>272558</td>\n",
       "      <td>woman cast ballot egyptian embassi beirut lebanon may expatri vote presidenti elect end may six day begin egypt continu read main stori egypt apo revolut violenc damag islamist apo hope egypt laugh elect hope pop song prais egypt candid egyptian view presid egyptian expatri start vote first pres...</td>\n",
       "    </tr>\n",
       "    <tr>\n",
       "      <th>34565</th>\n",
       "      <td>369037</td>\n",
       "      <td>worker dodg final salari pension bullet eu mothbal solvenc rule scheme adam uren publish est may updat est may comment share damag propos would seen uk busi run defin benefit pension scheme rais extra ensur afford mothbal european union rule would forc compani dramat increas capit cover pension ...</td>\n",
       "    </tr>\n",
       "    <tr>\n",
       "      <th>9099</th>\n",
       "      <td>300226</td>\n",
       "      <td>add stori spirit much love edwardian poet whose cautionari tale design frighten young children right thing invok new govern road safeti campaign modernday road safeti cautionari tale screen tv advert take leaf vers hilair belloc coin classic often gruesom children poem matilda told lie burn deat...</td>\n",
       "    </tr>\n",
       "    <tr>\n",
       "      <th>23915</th>\n",
       "      <td>338555</td>\n",
       "      <td>job market apo fragil apo year wednesday june print email share press associ uk apo employ rate might return prerecess level anoth five year far longer part countri tuc warn union organis said employ rate north england fallen past year despit rise uk whole gap employ level best worst perform reg...</td>\n",
       "    </tr>\n",
       "    <tr>\n",
       "      <th>35984</th>\n",
       "      <td>51181</td>\n",
       "      <td>girl warn hide gun campaign urg young women stash gun gangster launch help combat number shoot black teenag london age year target initi follow recent rise number young women arrest convict possess weapon polic fear girl persuad store weapon male friend rel seri radio cinema billboard advert car...</td>\n",
       "    </tr>\n",
       "    <tr>\n",
       "      <th>3550</th>\n",
       "      <td>219792</td>\n",
       "      <td>seaman guilti yacht death publish date decemb sourc press associ locat press associ newsdesk premium articl account frozen avail option click button option premium articl read articl full must regist premium content subscript press associ site subscrib regist articl read articl full must regist ...</td>\n",
       "    </tr>\n",
       "    <tr>\n",
       "      <th>16204</th>\n",
       "      <td>350456</td>\n",
       "      <td>ed harri blue bay mauritiu reuter scientist mauritiu warn indian ocean island ambiti tourism target place much strain remain coral face threat trade liberalis sugar textil sector mauritiu boost tourism goal two million tourist per year anticip scientist nervou target mani tourist bring unsustain...</td>\n",
       "    </tr>\n",
       "    <tr>\n",
       "      <th>2571</th>\n",
       "      <td>239770</td>\n",
       "      <td>fugit opposit leader imran khan surfac student demonstr emerg rule wednesday promptli detain hardlin student hand polic author said student support cheer wildli lift khan air got car univers campu eastern citi lahor student repres hardlin jamaateislami parti surg forward grab khan hustl nearbi b...</td>\n",
       "    </tr>\n",
       "    <tr>\n",
       "      <th>19327</th>\n",
       "      <td>108912</td>\n",
       "      <td>winter warn resid clock go back friday octob comment say elizabeth pear clock go back weekend resid warn consid safeti long dark night haringey council commun safeti boss urg resid follow tip issu home offic reduc risk fall victim crime councillor nilgun canver cabinet member enforc safer commun...</td>\n",
       "    </tr>\n",
       "    <tr>\n",
       "      <th>6870</th>\n",
       "      <td>205459</td>\n",
       "      <td>rowena mason publish bst jul compani notifi financi servic author discov allegedli unauthoris trade took place tuesday pvm employ peopl offic west end conduct investig stress margin call met conduct busi usual unwound unauthoris posit inform intercontinentalexchang ice futur europ brent crude oi...</td>\n",
       "    </tr>\n",
       "    <tr>\n",
       "      <th>16195</th>\n",
       "      <td>306061</td>\n",
       "      <td>uganda plan award new oil ga explor licens next year end eightyear halt licens countri petroleum explor product depart said tuesday ugandan govern plan give licens dozen oil block larg area land usual measur sq kilomet award countri govern includ least four big recent discoveri open bid process ...</td>\n",
       "    </tr>\n",
       "    <tr>\n",
       "      <th>35427</th>\n",
       "      <td>265240</td>\n",
       "      <td>plan tackl unemploy muslim commun bradfordbas chariti plan expand pioneer educ project meet need unemploy muslim citi qed madrassa project seen pupil benefit drive improv educ standard muslim commun base success partnership educ madrassa bradford agre work qed address high unemploy level among m...</td>\n",
       "    </tr>\n",
       "    <tr>\n",
       "      <th>27906</th>\n",
       "      <td>139394</td>\n",
       "      <td>bbc sophi hutchinson meet protest taksim squar istanbul continu read main stori relat stori disaffect divid istanbul chao camaraderi istanbul fight antigovern protest polic turkey protest besikta district istanbul tore pave stone build barricad polic respond tear ga water cannon protest initi ta...</td>\n",
       "    </tr>\n",
       "  </tbody>\n",
       "</table>\n",
       "</div>"
      ],
      "text/plain": [
       "        index  \\\n",
       "13916  188030   \n",
       "3878   146219   \n",
       "33183  304842   \n",
       "37582  142834   \n",
       "21020  279846   \n",
       "14761   80459   \n",
       "702      2320   \n",
       "28013  272558   \n",
       "34565  369037   \n",
       "9099   300226   \n",
       "23915  338555   \n",
       "35984   51181   \n",
       "3550   219792   \n",
       "16204  350456   \n",
       "2571   239770   \n",
       "19327  108912   \n",
       "6870   205459   \n",
       "16195  306061   \n",
       "35427  265240   \n",
       "27906  139394   \n",
       "\n",
       "                                                                                                                                                                                                                                                                                                              text  \n",
       "13916  togeth make histori last line speech hillari clinton deliv peopl sioux fall fairground south dakota monday night meant cours would make histori elect first woman presid america histori anoth sort play us would turn last joint campaign appear call first famili democrat parti mr clinton husband bi...  \n",
       "3878   labour leadership hope david miliband spoke publicli first time long struggl children wife louis decis adopt year ivf treatment fail mr miliband decis discuss privat life seen sign determin show abl open let public get know person way demand polit leader modern world highli person interview time...  \n",
       "33183  current uk regul meat industri review determin whether chang need prevent outbreak diseas e coli accord review report releas yesterday report wale regul make nine recommend forward hugh pennington scientist charg hold public inquiri outbreak e coli kill schoolchild lead other fall sick inquiri d...  \n",
       "37582  stacey solomon x factor dream came end perform michael bubl fail woo vote public olli mur joe mcelderri battl titl record contract likelihood christma number one sunday night eagerlyanticip final contest top one lucr weekend british broadcast extend result show creat prime advertis spot front ex...  \n",
       "21020  govern minist refus rule deploy british ground troop libya arm forc minist nick harvey said clear distinct send fullscal occup forc ban term unit nation mandat limit intervent also acknowledg libya could face prolong stalem rebel secur east countri unabl break colonel muammar gaddafi stranglehol...  \n",
       "14761  sunday may nation news press associ pair armi boot among flower area becom shrine drummer lee rigbi pair armi boot among flower area becom shrine drummer lee rigbi servic dedic drummer rigbi take place st peter apostl roman cathol church woolwich father michael branch lead servic encourag peopl ...  \n",
       "702    plan enabl ten thousand neediest pension remain home due form centrepiec govern final legisl programm gener elect less seven month countri must go poll gordon brown use queen speech present seri populist bill design set battlelin forthcom elect campaign well ensur free person care elderli disabl...  \n",
       "28013  woman cast ballot egyptian embassi beirut lebanon may expatri vote presidenti elect end may six day begin egypt continu read main stori egypt apo revolut violenc damag islamist apo hope egypt laugh elect hope pop song prais egypt candid egyptian view presid egyptian expatri start vote first pres...  \n",
       "34565  worker dodg final salari pension bullet eu mothbal solvenc rule scheme adam uren publish est may updat est may comment share damag propos would seen uk busi run defin benefit pension scheme rais extra ensur afford mothbal european union rule would forc compani dramat increas capit cover pension ...  \n",
       "9099   add stori spirit much love edwardian poet whose cautionari tale design frighten young children right thing invok new govern road safeti campaign modernday road safeti cautionari tale screen tv advert take leaf vers hilair belloc coin classic often gruesom children poem matilda told lie burn deat...  \n",
       "23915  job market apo fragil apo year wednesday june print email share press associ uk apo employ rate might return prerecess level anoth five year far longer part countri tuc warn union organis said employ rate north england fallen past year despit rise uk whole gap employ level best worst perform reg...  \n",
       "35984  girl warn hide gun campaign urg young women stash gun gangster launch help combat number shoot black teenag london age year target initi follow recent rise number young women arrest convict possess weapon polic fear girl persuad store weapon male friend rel seri radio cinema billboard advert car...  \n",
       "3550   seaman guilti yacht death publish date decemb sourc press associ locat press associ newsdesk premium articl account frozen avail option click button option premium articl read articl full must regist premium content subscript press associ site subscrib regist articl read articl full must regist ...  \n",
       "16204  ed harri blue bay mauritiu reuter scientist mauritiu warn indian ocean island ambiti tourism target place much strain remain coral face threat trade liberalis sugar textil sector mauritiu boost tourism goal two million tourist per year anticip scientist nervou target mani tourist bring unsustain...  \n",
       "2571   fugit opposit leader imran khan surfac student demonstr emerg rule wednesday promptli detain hardlin student hand polic author said student support cheer wildli lift khan air got car univers campu eastern citi lahor student repres hardlin jamaateislami parti surg forward grab khan hustl nearbi b...  \n",
       "19327  winter warn resid clock go back friday octob comment say elizabeth pear clock go back weekend resid warn consid safeti long dark night haringey council commun safeti boss urg resid follow tip issu home offic reduc risk fall victim crime councillor nilgun canver cabinet member enforc safer commun...  \n",
       "6870   rowena mason publish bst jul compani notifi financi servic author discov allegedli unauthoris trade took place tuesday pvm employ peopl offic west end conduct investig stress margin call met conduct busi usual unwound unauthoris posit inform intercontinentalexchang ice futur europ brent crude oi...  \n",
       "16195  uganda plan award new oil ga explor licens next year end eightyear halt licens countri petroleum explor product depart said tuesday ugandan govern plan give licens dozen oil block larg area land usual measur sq kilomet award countri govern includ least four big recent discoveri open bid process ...  \n",
       "35427  plan tackl unemploy muslim commun bradfordbas chariti plan expand pioneer educ project meet need unemploy muslim citi qed madrassa project seen pupil benefit drive improv educ standard muslim commun base success partnership educ madrassa bradford agre work qed address high unemploy level among m...  \n",
       "27906  bbc sophi hutchinson meet protest taksim squar istanbul continu read main stori relat stori disaffect divid istanbul chao camaraderi istanbul fight antigovern protest polic turkey protest besikta district istanbul tore pave stone build barricad polic respond tear ga water cannon protest initi ta...  "
      ]
     },
     "execution_count": 38,
     "metadata": {},
     "output_type": "execute_result"
    }
   ],
   "source": [
    "# Now examine hard and soft classifications manually\n",
    "import random\n",
    "\n",
    "pd.set_option('display.max_colwidth', 300)\n",
    "hardsdf = test_df.loc[y_test_pred==0, ['text']]\n",
    "hardsdf=hardsdf.reset_index()\n",
    "hardsdf.loc[random.sample(range(len(hardsdf['text'])), 20)]"
   ]
  },
  {
   "cell_type": "markdown",
   "metadata": {},
   "source": [
    "### Soft News"
   ]
  },
  {
   "cell_type": "code",
   "execution_count": 39,
   "metadata": {},
   "outputs": [
    {
     "data": {
      "text/html": [
       "<div>\n",
       "<style scoped>\n",
       "    .dataframe tbody tr th:only-of-type {\n",
       "        vertical-align: middle;\n",
       "    }\n",
       "\n",
       "    .dataframe tbody tr th {\n",
       "        vertical-align: top;\n",
       "    }\n",
       "\n",
       "    .dataframe thead th {\n",
       "        text-align: right;\n",
       "    }\n",
       "</style>\n",
       "<table border=\"1\" class=\"dataframe\">\n",
       "  <thead>\n",
       "    <tr style=\"text-align: right;\">\n",
       "      <th></th>\n",
       "      <th>index</th>\n",
       "      <th>text</th>\n",
       "    </tr>\n",
       "  </thead>\n",
       "  <tbody>\n",
       "    <tr>\n",
       "      <th>14422</th>\n",
       "      <td>195188</td>\n",
       "      <td>ashley young fab england aug bill howel ashley young told fabio capello solv leftsid dilemma villa star set stall becom england regular season italian villa wide boy admit cope longer surpris packag premier leagu host fullback understand one way stop villa stop young pick three england cap short...</td>\n",
       "    </tr>\n",
       "    <tr>\n",
       "      <th>11403</th>\n",
       "      <td>282330</td>\n",
       "      <td>clive owen boy back premier london thu oct clive owen pull crowd london film festiv last night follow appear alist includ georg clooney emma thompson past week british actor walk red carpet unveil new film boy back stori base memoir simon carr follow man forc bring two children wife die take phi...</td>\n",
       "    </tr>\n",
       "    <tr>\n",
       "      <th>24679</th>\n",
       "      <td>34941</td>\n",
       "      <td>spark wimbledon shown recent week mysteri miss saturday london one south clash sidcup glimmer proper wimbledon especi first half good forward drive coupl nice run jonni rawlinson dave charl support halfheart never realli look like score excel don defenc ensur sidcup couldnt cross tri line either...</td>\n",
       "    </tr>\n",
       "    <tr>\n",
       "      <th>8463</th>\n",
       "      <td>7538</td>\n",
       "      <td>consider numer advantag ranelagh harrier open mob cross countri match season south london harrier richmond park saturday wrest back stubb cup rival cup name timekeep jack stubb belong club although fixtur date back ranelagh runner action compar visitor consol provid individu winner stuart major ...</td>\n",
       "    </tr>\n",
       "    <tr>\n",
       "      <th>34027</th>\n",
       "      <td>240895</td>\n",
       "      <td>masterchef pair host quiz show thursday april john torod gregg wallac cohost got news john torod gregg wallac cohost got news photo enlarg masterchef star john torod gregg wallac first peopl cohost episod satir bbc quiz got news pair record show thursday may shown follow day torod said quot got ...</td>\n",
       "    </tr>\n",
       "    <tr>\n",
       "      <th>29233</th>\n",
       "      <td>198289</td>\n",
       "      <td>champion leagu final henrik larsson barcelona lineup wembley retir sweden apo henrik larsson premier leagu titl manchest unit la liga champion leagu barcelona run rule latter ahead saturday apo wembley showdown lionel messi champion leagu final henrik larsson barcelona lineup wembley geniu lione...</td>\n",
       "    </tr>\n",
       "    <tr>\n",
       "      <th>32018</th>\n",
       "      <td>34470</td>\n",
       "      <td>lawyer mel gibson exgirlfriend conclud closeddoor hear judg handl child custodi case lawyer actordirector russian singer oksana grigorieva declin comment case remain seal coupl split april gibson lawyer stephen kolodni said former coupl enter confidenti agreement month later child custodi case f...</td>\n",
       "    </tr>\n",
       "    <tr>\n",
       "      <th>17808</th>\n",
       "      <td>26633</td>\n",
       "      <td>widdi face wrath chaser wednesday octob ann widdecomb test gener knowledg skill chase ann widdecomb test gener knowledg skill chase photo enlarg ann widdecomb brave wrath chase attempt win money chariti former strictli come danc star politician among celebr take part special edit itv1 apo quiz s...</td>\n",
       "    </tr>\n",
       "    <tr>\n",
       "      <th>16555</th>\n",
       "      <td>72106</td>\n",
       "      <td>jonathan redhead march jame bulman star show sheringham claw back premier divis leader brandon town suffolk side slip defeat midtabl sprowston athlet scott mckinney get goal bulman help hattrick shannock beat acl unit result saw brandon lead top tabl cut five point two although north norfolk sid...</td>\n",
       "    </tr>\n",
       "    <tr>\n",
       "      <th>21301</th>\n",
       "      <td>265685</td>\n",
       "      <td>blue clinch marin deal chelsea agre deal sign werder bremen midfield marko marin blue announc offici websit agre undisclos fee germani intern agre person term marin join chelsea summer marin join bremen borussia monchengladbach contract club june alreadi pass medic london sign contract blue next...</td>\n",
       "    </tr>\n",
       "    <tr>\n",
       "      <th>303</th>\n",
       "      <td>74371</td>\n",
       "      <td>sheffield wednesday chase croatia striker ivan klasnic releas bolton http wwwdailystarcoukfootballview253833sheffieldwednesdaychasingivanklasn</td>\n",
       "    </tr>\n",
       "    <tr>\n",
       "      <th>10600</th>\n",
       "      <td>370465</td>\n",
       "      <td>earl relish french test monday februari keith earl keith earl photo enlarg keith earl insist ireland apo spirit lift daunt trip pari resound rb nation victori itali irish emerg winner aviva stadium saturday haul back titl content follow loss wale three week ago next assign six nation favourit fr...</td>\n",
       "    </tr>\n",
       "    <tr>\n",
       "      <th>20104</th>\n",
       "      <td>13663</td>\n",
       "      <td>full time arsen burnley sunday march comment say burnley exit fa cup fifth round afternoon slip defeat premier leagu big boy arsen fine goal mexican teenag carlo vela eduardo either side halftim emmanuel ebou late strike set home tie hull gunner theo walcott made return four month shoulder probl...</td>\n",
       "    </tr>\n",
       "    <tr>\n",
       "      <th>19148</th>\n",
       "      <td>749</td>\n",
       "      <td>ferdinand cap fit england jun rio ferdinand convinc fabio capello got england right track look turn three lion worldbeat capello brought england failur reach ongo euro tournament though four friendli match far seen sporad burst improv italian confid correct formula defeat andorra importantli cro...</td>\n",
       "    </tr>\n",
       "    <tr>\n",
       "      <th>21796</th>\n",
       "      <td>276732</td>\n",
       "      <td>jayamini de silva tradit chines art work welcom year mythic dragon three artist exhibit togeth newcastl chinatown dr yongshu wu presid north east chines associ exhibit paint calligraphi reflect tradit chines theme dr wu whose background appli mechan retir senior research fellow newcastl univers ...</td>\n",
       "    </tr>\n",
       "    <tr>\n",
       "      <th>14490</th>\n",
       "      <td>194815</td>\n",
       "      <td>shell sell nigeria oil field stake royal dutch shell brink sell stake nigerian oil field polishl consortium shell oil worker offshor oil platform niger delta nigeria four shell apo nigerian block sale photo ap rowena mason rowena mason bst may follow rowena mason twitter comment kulczyk oil vent...</td>\n",
       "    </tr>\n",
       "    <tr>\n",
       "      <th>21449</th>\n",
       "      <td>48416</td>\n",
       "      <td>nomin golden globe award announc thursday decemb gmt start reveal nomin announc lo angel golden globe award ceremoni take place sunday januari beverli hilton beverli hill california comedian tina fey ami poehler take stage even host third year run earli predict suggest imit game star benedict cu...</td>\n",
       "    </tr>\n",
       "    <tr>\n",
       "      <th>25766</th>\n",
       "      <td>100197</td>\n",
       "      <td>young mum forc close busi becom target internet hate campaign put compani sale emma barn relat polic probe carlisl woman claim internet bulli forc busi cupcak queen emma barn announc three week ago plan shut babycak bake compani run carlisl home octob took decis admit found cakebak commun cruel ...</td>\n",
       "    </tr>\n",
       "    <tr>\n",
       "      <th>22526</th>\n",
       "      <td>258416</td>\n",
       "      <td>mike tindal refus discuss storm controversi engulf follow infam drunken night queenstown bar gloucest centr speak publicli first time sinc captur cctv cavort woman group england player tindal look sheepish sat alongsid england manag martin johnson men sidestep question issu rugbi footbal union a...</td>\n",
       "    </tr>\n",
       "    <tr>\n",
       "      <th>25370</th>\n",
       "      <td>148619</td>\n",
       "      <td>toni pidgley barnardo apo berkeley group toni pidgley creat berkeley still twenti progress point one wellknown stori british busi toni pidgley creat berkeley still twenti progress point one wellknown stori british busi mr pidgley adopt barnardo age four travel spend form year live disus railway ...</td>\n",
       "    </tr>\n",
       "  </tbody>\n",
       "</table>\n",
       "</div>"
      ],
      "text/plain": [
       "        index  \\\n",
       "14422  195188   \n",
       "11403  282330   \n",
       "24679   34941   \n",
       "8463     7538   \n",
       "34027  240895   \n",
       "29233  198289   \n",
       "32018   34470   \n",
       "17808   26633   \n",
       "16555   72106   \n",
       "21301  265685   \n",
       "303     74371   \n",
       "10600  370465   \n",
       "20104   13663   \n",
       "19148     749   \n",
       "21796  276732   \n",
       "14490  194815   \n",
       "21449   48416   \n",
       "25766  100197   \n",
       "22526  258416   \n",
       "25370  148619   \n",
       "\n",
       "                                                                                                                                                                                                                                                                                                              text  \n",
       "14422  ashley young fab england aug bill howel ashley young told fabio capello solv leftsid dilemma villa star set stall becom england regular season italian villa wide boy admit cope longer surpris packag premier leagu host fullback understand one way stop villa stop young pick three england cap short...  \n",
       "11403  clive owen boy back premier london thu oct clive owen pull crowd london film festiv last night follow appear alist includ georg clooney emma thompson past week british actor walk red carpet unveil new film boy back stori base memoir simon carr follow man forc bring two children wife die take phi...  \n",
       "24679  spark wimbledon shown recent week mysteri miss saturday london one south clash sidcup glimmer proper wimbledon especi first half good forward drive coupl nice run jonni rawlinson dave charl support halfheart never realli look like score excel don defenc ensur sidcup couldnt cross tri line either...  \n",
       "8463   consider numer advantag ranelagh harrier open mob cross countri match season south london harrier richmond park saturday wrest back stubb cup rival cup name timekeep jack stubb belong club although fixtur date back ranelagh runner action compar visitor consol provid individu winner stuart major ...  \n",
       "34027  masterchef pair host quiz show thursday april john torod gregg wallac cohost got news john torod gregg wallac cohost got news photo enlarg masterchef star john torod gregg wallac first peopl cohost episod satir bbc quiz got news pair record show thursday may shown follow day torod said quot got ...  \n",
       "29233  champion leagu final henrik larsson barcelona lineup wembley retir sweden apo henrik larsson premier leagu titl manchest unit la liga champion leagu barcelona run rule latter ahead saturday apo wembley showdown lionel messi champion leagu final henrik larsson barcelona lineup wembley geniu lione...  \n",
       "32018  lawyer mel gibson exgirlfriend conclud closeddoor hear judg handl child custodi case lawyer actordirector russian singer oksana grigorieva declin comment case remain seal coupl split april gibson lawyer stephen kolodni said former coupl enter confidenti agreement month later child custodi case f...  \n",
       "17808  widdi face wrath chaser wednesday octob ann widdecomb test gener knowledg skill chase ann widdecomb test gener knowledg skill chase photo enlarg ann widdecomb brave wrath chase attempt win money chariti former strictli come danc star politician among celebr take part special edit itv1 apo quiz s...  \n",
       "16555  jonathan redhead march jame bulman star show sheringham claw back premier divis leader brandon town suffolk side slip defeat midtabl sprowston athlet scott mckinney get goal bulman help hattrick shannock beat acl unit result saw brandon lead top tabl cut five point two although north norfolk sid...  \n",
       "21301  blue clinch marin deal chelsea agre deal sign werder bremen midfield marko marin blue announc offici websit agre undisclos fee germani intern agre person term marin join chelsea summer marin join bremen borussia monchengladbach contract club june alreadi pass medic london sign contract blue next...  \n",
       "303                                                                                                                                                                 sheffield wednesday chase croatia striker ivan klasnic releas bolton http wwwdailystarcoukfootballview253833sheffieldwednesdaychasingivanklasn  \n",
       "10600  earl relish french test monday februari keith earl keith earl photo enlarg keith earl insist ireland apo spirit lift daunt trip pari resound rb nation victori itali irish emerg winner aviva stadium saturday haul back titl content follow loss wale three week ago next assign six nation favourit fr...  \n",
       "20104  full time arsen burnley sunday march comment say burnley exit fa cup fifth round afternoon slip defeat premier leagu big boy arsen fine goal mexican teenag carlo vela eduardo either side halftim emmanuel ebou late strike set home tie hull gunner theo walcott made return four month shoulder probl...  \n",
       "19148  ferdinand cap fit england jun rio ferdinand convinc fabio capello got england right track look turn three lion worldbeat capello brought england failur reach ongo euro tournament though four friendli match far seen sporad burst improv italian confid correct formula defeat andorra importantli cro...  \n",
       "21796  jayamini de silva tradit chines art work welcom year mythic dragon three artist exhibit togeth newcastl chinatown dr yongshu wu presid north east chines associ exhibit paint calligraphi reflect tradit chines theme dr wu whose background appli mechan retir senior research fellow newcastl univers ...  \n",
       "14490  shell sell nigeria oil field stake royal dutch shell brink sell stake nigerian oil field polishl consortium shell oil worker offshor oil platform niger delta nigeria four shell apo nigerian block sale photo ap rowena mason rowena mason bst may follow rowena mason twitter comment kulczyk oil vent...  \n",
       "21449  nomin golden globe award announc thursday decemb gmt start reveal nomin announc lo angel golden globe award ceremoni take place sunday januari beverli hilton beverli hill california comedian tina fey ami poehler take stage even host third year run earli predict suggest imit game star benedict cu...  \n",
       "25766  young mum forc close busi becom target internet hate campaign put compani sale emma barn relat polic probe carlisl woman claim internet bulli forc busi cupcak queen emma barn announc three week ago plan shut babycak bake compani run carlisl home octob took decis admit found cakebak commun cruel ...  \n",
       "22526  mike tindal refus discuss storm controversi engulf follow infam drunken night queenstown bar gloucest centr speak publicli first time sinc captur cctv cavort woman group england player tindal look sheepish sat alongsid england manag martin johnson men sidestep question issu rugbi footbal union a...  \n",
       "25370  toni pidgley barnardo apo berkeley group toni pidgley creat berkeley still twenti progress point one wellknown stori british busi toni pidgley creat berkeley still twenti progress point one wellknown stori british busi mr pidgley adopt barnardo age four travel spend form year live disus railway ...  "
      ]
     },
     "execution_count": 39,
     "metadata": {},
     "output_type": "execute_result"
    }
   ],
   "source": [
    "softsdf = test_df.loc[y_test_pred==1, ['text']]\n",
    "softsdf= softsdf.reset_index()\n",
    "softsdf.loc[random.sample(range(len(softsdf['text'])), 20)]"
   ]
  },
  {
   "cell_type": "code",
   "execution_count": 40,
   "metadata": {},
   "outputs": [
    {
     "name": "stdout",
     "output_type": "stream",
     "text": [
      "CPU times: user 2.2 s, sys: 28 ms, total: 2.23 s\n",
      "Wall time: 2.28 s\n"
     ]
    },
    {
     "data": {
      "text/plain": [
       "['../data/uk_model/url_uk_classifier.joblib']"
      ]
     },
     "execution_count": 40,
     "metadata": {},
     "output_type": "execute_result"
    }
   ],
   "source": [
    "%%time\n",
    "import joblib\n",
    "\n",
    "joblib.dump(vectorizer, \"../data/uk_model/url_uk_vectorizer.joblib\", compress=3)\n",
    "joblib.dump(clf, \"../data/uk_model/url_uk_classifier.joblib\", compress=3)"
   ]
  },
  {
   "cell_type": "markdown",
   "metadata": {},
   "source": [
    "### Plotting Success"
   ]
  },
  {
   "cell_type": "code",
   "execution_count": 42,
   "metadata": {},
   "outputs": [
    {
     "name": "stdout",
     "output_type": "stream",
     "text": [
      "Confusion matrix:\n",
      "Predicted    0.0    1.0  __all__\n",
      "Actual                          \n",
      "0.0        34011   4510    38521\n",
      "1.0         4934  30978    35912\n",
      "__all__    38945  35488    74433\n",
      "       0.0    1.0\n",
      "0.0  34011   4510\n",
      "1.0   4934  30978\n"
     ]
    },
    {
     "data": {
      "image/png": "[encoded data removed]",
      "text/plain": [
       "<Figure size 648x576 with 2 Axes>"
      ]
     },
     "metadata": {},
     "output_type": "display_data"
    }
   ],
   "source": [
    "%matplotlib inline\n",
    "import matplotlib\n",
    "matplotlib.style.use('ggplot')\n",
    "from pandas_confusion import ConfusionMatrix\n",
    "\n",
    "def get_most_informative_features(vectorizer, clf, n=20):\n",
    "    feature_names = vectorizer.get_feature_names()\n",
    "    coefs_with_fns = sorted(zip(clf.coef_[0], feature_names))\n",
    "    top_a = coefs_with_fns[:n]\n",
    "    top_b = coefs_with_fns[:-(n + 1):-1]\n",
    "    return top_a, top_b\n",
    "\n",
    "vect = vectorizer\n",
    "y_pred = y_test_pred\n",
    "\n",
    "top_a, top_b = get_most_informative_features(vect, clf0, 100)\n",
    "top_a_df = pd.DataFrame(top_a)\n",
    "top_a_df.columns = ['coef', 'term']\n",
    "top_b_df = pd.DataFrame(top_b)\n",
    "top_b_df.columns = ['coef', 'term']\n",
    "\n",
    "top_a_df.to_csv('./reports/url_uk_top100_soft.csv', index=False)\n",
    "top_b_df.to_csv('./reports/url_uk_top100_hard.csv', index=False)\n",
    "\n",
    "y_test_df = pd.DataFrame(test_df['soft_news'], columns=['actual']).reset_index(drop=True)\n",
    "y_test_df['predicted'] = y_pred\n",
    "y_test_df.to_csv('./tests/url_uk_test_prediction.csv', index=False)\n",
    "\n",
    "y_true = test_df['soft_news'].values\n",
    "confusion_matrix = ConfusionMatrix(y_true, y_pred)\n",
    "print(\"Confusion matrix:\\n%s\" % confusion_matrix)\n",
    "\n",
    "confusion_matrix.plot()\n",
    "\n",
    "from sklearn.metrics import confusion_matrix\n",
    "conf = confusion_matrix(y_true, y_pred)\n",
    "conf_df = pd.DataFrame(conf)\n",
    "conf_df.columns = clf.classes_\n",
    "conf_df.index = clf.classes_\n",
    "conf_df.to_csv('./reports/url_uk_test_confusion_matrix.csv', index_label=\"actual \\ predicted\")\n",
    "print(conf_df)\n"
   ]
  },
  {
   "cell_type": "markdown",
   "metadata": {},
   "source": [
    "### Proportion of Hard and Soft"
   ]
  },
  {
   "cell_type": "code",
   "execution_count": 43,
   "metadata": {},
   "outputs": [
    {
     "data": {
      "text/plain": [
       "<matplotlib.axes._subplots.AxesSubplot at 0x7f88c671c450>"
      ]
     },
     "execution_count": 43,
     "metadata": {},
     "output_type": "execute_result"
    },
    {
     "data": {
      "image/png": "[encoded data removed]",
      "text/plain": [
       "<Figure size 432x288 with 1 Axes>"
      ]
     },
     "metadata": {},
     "output_type": "display_data"
    }
   ],
   "source": [
    "sdf.groupby(['soft_news']).agg({'url': 'count'}).plot(kind='bar')"
   ]
  },
  {
   "cell_type": "code",
   "execution_count": null,
   "metadata": {},
   "outputs": [],
   "source": []
  }
 ],
 "metadata": {
  "kernelspec": {
   "display_name": "Python 3",
   "language": "python",
   "name": "python3"
  },
  "language_info": {
   "codemirror_mode": {
    "name": "ipython",
    "version": 3
   },
   "file_extension": ".py",
   "mimetype": "text/x-python",
   "name": "python",
   "nbconvert_exporter": "python",
   "pygments_lexer": "ipython3",
   "version": "3.7.8"
  }
 },
 "nbformat": 4,
 "nbformat_minor": 1
}
